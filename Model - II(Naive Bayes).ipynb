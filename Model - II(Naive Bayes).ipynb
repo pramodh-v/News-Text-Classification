{
 "cells": [
  {
   "cell_type": "code",
   "execution_count": 1,
   "id": "392bd0c2",
   "metadata": {},
   "outputs": [],
   "source": [
    "import pandas as pd\n",
    "import numpy as np"
   ]
  },
  {
   "cell_type": "code",
   "execution_count": 2,
   "id": "880784d1",
   "metadata": {},
   "outputs": [],
   "source": [
    "df = pd.read_csv('Preprocessed_Dataset.csv')"
   ]
  },
  {
   "cell_type": "code",
   "execution_count": 3,
   "id": "9776fb8c",
   "metadata": {},
   "outputs": [
    {
     "data": {
      "text/html": [
       "<div>\n",
       "<style scoped>\n",
       "    .dataframe tbody tr th:only-of-type {\n",
       "        vertical-align: middle;\n",
       "    }\n",
       "\n",
       "    .dataframe tbody tr th {\n",
       "        vertical-align: top;\n",
       "    }\n",
       "\n",
       "    .dataframe thead th {\n",
       "        text-align: right;\n",
       "    }\n",
       "</style>\n",
       "<table border=\"1\" class=\"dataframe\">\n",
       "  <thead>\n",
       "    <tr style=\"text-align: right;\">\n",
       "      <th></th>\n",
       "      <th>Unnamed: 0</th>\n",
       "      <th>category</th>\n",
       "      <th>comb</th>\n",
       "    </tr>\n",
       "  </thead>\n",
       "  <tbody>\n",
       "    <tr>\n",
       "      <th>0</th>\n",
       "      <td>0</td>\n",
       "      <td>ENTERTAINMENT</td>\n",
       "      <td>['smith', 'join', 'diplo', 'nicky', 'jam', '20...</td>\n",
       "    </tr>\n",
       "    <tr>\n",
       "      <th>1</th>\n",
       "      <td>1</td>\n",
       "      <td>ENTERTAINMENT</td>\n",
       "      <td>['hugh', 'grant', 'marry', 'first', 'time', 'a...</td>\n",
       "    </tr>\n",
       "    <tr>\n",
       "      <th>2</th>\n",
       "      <td>2</td>\n",
       "      <td>ENTERTAINMENT</td>\n",
       "      <td>['jim', 'carrey', 'blast', 'castrato', 'adam',...</td>\n",
       "    </tr>\n",
       "    <tr>\n",
       "      <th>3</th>\n",
       "      <td>3</td>\n",
       "      <td>ENTERTAINMENT</td>\n",
       "      <td>['julianna', 'margulies', 'use', 'donald', 'tr...</td>\n",
       "    </tr>\n",
       "    <tr>\n",
       "      <th>4</th>\n",
       "      <td>4</td>\n",
       "      <td>ENTERTAINMENT</td>\n",
       "      <td>['morgan', 'freeman', 'devastate', 'sexual', '...</td>\n",
       "    </tr>\n",
       "  </tbody>\n",
       "</table>\n",
       "</div>"
      ],
      "text/plain": [
       "   Unnamed: 0       category  \\\n",
       "0           0  ENTERTAINMENT   \n",
       "1           1  ENTERTAINMENT   \n",
       "2           2  ENTERTAINMENT   \n",
       "3           3  ENTERTAINMENT   \n",
       "4           4  ENTERTAINMENT   \n",
       "\n",
       "                                                comb  \n",
       "0  ['smith', 'join', 'diplo', 'nicky', 'jam', '20...  \n",
       "1  ['hugh', 'grant', 'marry', 'first', 'time', 'a...  \n",
       "2  ['jim', 'carrey', 'blast', 'castrato', 'adam',...  \n",
       "3  ['julianna', 'margulies', 'use', 'donald', 'tr...  \n",
       "4  ['morgan', 'freeman', 'devastate', 'sexual', '...  "
      ]
     },
     "execution_count": 3,
     "metadata": {},
     "output_type": "execute_result"
    }
   ],
   "source": [
    "df.head()"
   ]
  },
  {
   "cell_type": "code",
   "execution_count": 4,
   "id": "7d5ebd40",
   "metadata": {},
   "outputs": [],
   "source": [
    "df.drop(columns=['Unnamed: 0'],inplace=True)"
   ]
  },
  {
   "cell_type": "code",
   "execution_count": 5,
   "id": "c83f31f6",
   "metadata": {},
   "outputs": [
    {
     "data": {
      "text/html": [
       "<div>\n",
       "<style scoped>\n",
       "    .dataframe tbody tr th:only-of-type {\n",
       "        vertical-align: middle;\n",
       "    }\n",
       "\n",
       "    .dataframe tbody tr th {\n",
       "        vertical-align: top;\n",
       "    }\n",
       "\n",
       "    .dataframe thead th {\n",
       "        text-align: right;\n",
       "    }\n",
       "</style>\n",
       "<table border=\"1\" class=\"dataframe\">\n",
       "  <thead>\n",
       "    <tr style=\"text-align: right;\">\n",
       "      <th></th>\n",
       "      <th>category</th>\n",
       "      <th>comb</th>\n",
       "    </tr>\n",
       "  </thead>\n",
       "  <tbody>\n",
       "    <tr>\n",
       "      <th>0</th>\n",
       "      <td>ENTERTAINMENT</td>\n",
       "      <td>['smith', 'join', 'diplo', 'nicky', 'jam', '20...</td>\n",
       "    </tr>\n",
       "    <tr>\n",
       "      <th>1</th>\n",
       "      <td>ENTERTAINMENT</td>\n",
       "      <td>['hugh', 'grant', 'marry', 'first', 'time', 'a...</td>\n",
       "    </tr>\n",
       "    <tr>\n",
       "      <th>2</th>\n",
       "      <td>ENTERTAINMENT</td>\n",
       "      <td>['jim', 'carrey', 'blast', 'castrato', 'adam',...</td>\n",
       "    </tr>\n",
       "    <tr>\n",
       "      <th>3</th>\n",
       "      <td>ENTERTAINMENT</td>\n",
       "      <td>['julianna', 'margulies', 'use', 'donald', 'tr...</td>\n",
       "    </tr>\n",
       "    <tr>\n",
       "      <th>4</th>\n",
       "      <td>ENTERTAINMENT</td>\n",
       "      <td>['morgan', 'freeman', 'devastate', 'sexual', '...</td>\n",
       "    </tr>\n",
       "    <tr>\n",
       "      <th>...</th>\n",
       "      <td>...</td>\n",
       "      <td>...</td>\n",
       "    </tr>\n",
       "    <tr>\n",
       "      <th>78027</th>\n",
       "      <td>TRAVEL</td>\n",
       "      <td>['tea', 'time', 'beneath', 'western', 'ghats',...</td>\n",
       "    </tr>\n",
       "    <tr>\n",
       "      <th>78028</th>\n",
       "      <td>WELLNESS</td>\n",
       "      <td>['begin', 'surprise', 'advice', 'centenarian',...</td>\n",
       "    </tr>\n",
       "    <tr>\n",
       "      <th>78029</th>\n",
       "      <td>STYLE &amp; BEAUTY</td>\n",
       "      <td>['cheryl', 'tiegs', 'sauna', 'look', 'back', '...</td>\n",
       "    </tr>\n",
       "    <tr>\n",
       "      <th>78030</th>\n",
       "      <td>ENTERTAINMENT</td>\n",
       "      <td>['sundance', 'icet', 'shade', 'american', 'rac...</td>\n",
       "    </tr>\n",
       "    <tr>\n",
       "      <th>78031</th>\n",
       "      <td>ENTERTAINMENT</td>\n",
       "      <td>['girl', 'dragon', 'tattoo', 'india', 'release...</td>\n",
       "    </tr>\n",
       "  </tbody>\n",
       "</table>\n",
       "<p>78032 rows × 2 columns</p>\n",
       "</div>"
      ],
      "text/plain": [
       "             category                                               comb\n",
       "0       ENTERTAINMENT  ['smith', 'join', 'diplo', 'nicky', 'jam', '20...\n",
       "1       ENTERTAINMENT  ['hugh', 'grant', 'marry', 'first', 'time', 'a...\n",
       "2       ENTERTAINMENT  ['jim', 'carrey', 'blast', 'castrato', 'adam',...\n",
       "3       ENTERTAINMENT  ['julianna', 'margulies', 'use', 'donald', 'tr...\n",
       "4       ENTERTAINMENT  ['morgan', 'freeman', 'devastate', 'sexual', '...\n",
       "...               ...                                                ...\n",
       "78027          TRAVEL  ['tea', 'time', 'beneath', 'western', 'ghats',...\n",
       "78028        WELLNESS  ['begin', 'surprise', 'advice', 'centenarian',...\n",
       "78029  STYLE & BEAUTY  ['cheryl', 'tiegs', 'sauna', 'look', 'back', '...\n",
       "78030   ENTERTAINMENT  ['sundance', 'icet', 'shade', 'american', 'rac...\n",
       "78031   ENTERTAINMENT  ['girl', 'dragon', 'tattoo', 'india', 'release...\n",
       "\n",
       "[78032 rows x 2 columns]"
      ]
     },
     "execution_count": 5,
     "metadata": {},
     "output_type": "execute_result"
    }
   ],
   "source": [
    "df"
   ]
  },
  {
   "cell_type": "code",
   "execution_count": 6,
   "id": "6548cb0e",
   "metadata": {},
   "outputs": [],
   "source": [
    "from sklearn.feature_extraction.text import TfidfVectorizer\n",
    "from sklearn.model_selection import train_test_split\n",
    "\n",
    "X = df['comb']\n",
    "y = df['category']"
   ]
  },
  {
   "cell_type": "code",
   "execution_count": 7,
   "id": "76dbdd03",
   "metadata": {},
   "outputs": [
    {
     "data": {
      "text/plain": [
       "0        ['smith', 'join', 'diplo', 'nicky', 'jam', '20...\n",
       "1        ['hugh', 'grant', 'marry', 'first', 'time', 'a...\n",
       "2        ['jim', 'carrey', 'blast', 'castrato', 'adam',...\n",
       "3        ['julianna', 'margulies', 'use', 'donald', 'tr...\n",
       "4        ['morgan', 'freeman', 'devastate', 'sexual', '...\n",
       "                               ...                        \n",
       "78027    ['tea', 'time', 'beneath', 'western', 'ghats',...\n",
       "78028    ['begin', 'surprise', 'advice', 'centenarian',...\n",
       "78029    ['cheryl', 'tiegs', 'sauna', 'look', 'back', '...\n",
       "78030    ['sundance', 'icet', 'shade', 'american', 'rac...\n",
       "78031    ['girl', 'dragon', 'tattoo', 'india', 'release...\n",
       "Name: comb, Length: 78032, dtype: object"
      ]
     },
     "execution_count": 7,
     "metadata": {},
     "output_type": "execute_result"
    }
   ],
   "source": [
    "X"
   ]
  },
  {
   "cell_type": "code",
   "execution_count": 8,
   "id": "242eef2b",
   "metadata": {},
   "outputs": [
    {
     "data": {
      "text/plain": [
       "0         ENTERTAINMENT\n",
       "1         ENTERTAINMENT\n",
       "2         ENTERTAINMENT\n",
       "3         ENTERTAINMENT\n",
       "4         ENTERTAINMENT\n",
       "              ...      \n",
       "78027            TRAVEL\n",
       "78028          WELLNESS\n",
       "78029    STYLE & BEAUTY\n",
       "78030     ENTERTAINMENT\n",
       "78031     ENTERTAINMENT\n",
       "Name: category, Length: 78032, dtype: object"
      ]
     },
     "execution_count": 8,
     "metadata": {},
     "output_type": "execute_result"
    }
   ],
   "source": [
    "y"
   ]
  },
  {
   "cell_type": "code",
   "execution_count": 9,
   "id": "9fa26e9b",
   "metadata": {},
   "outputs": [],
   "source": [
    "X_train,X_test,y_train,y_test = train_test_split(X,y,test_size=0.33,random_state=42)"
   ]
  },
  {
   "cell_type": "code",
   "execution_count": 10,
   "id": "16702e69",
   "metadata": {},
   "outputs": [
    {
     "data": {
      "text/plain": [
       "69034          WELLNESS\n",
       "62848            TRAVEL\n",
       "55120            TRAVEL\n",
       "33829          POLITICS\n",
       "72485            TRAVEL\n",
       "              ...      \n",
       "66231          WELLNESS\n",
       "13642          POLITICS\n",
       "24199          POLITICS\n",
       "21423     ENTERTAINMENT\n",
       "48087    STYLE & BEAUTY\n",
       "Name: category, Length: 25751, dtype: object"
      ]
     },
     "execution_count": 10,
     "metadata": {},
     "output_type": "execute_result"
    }
   ],
   "source": [
    "y_test"
   ]
  },
  {
   "cell_type": "code",
   "execution_count": 11,
   "id": "537c697c",
   "metadata": {},
   "outputs": [
    {
     "data": {
      "text/plain": [
       "<78032x59830 sparse matrix of type '<class 'numpy.float64'>'\n",
       "\twith 1352842 stored elements in Compressed Sparse Row format>"
      ]
     },
     "execution_count": 11,
     "metadata": {},
     "output_type": "execute_result"
    }
   ],
   "source": [
    "tfidf_vectorizer = TfidfVectorizer()\n",
    "\n",
    "tfidf_vectorizer.fit_transform(df['comb'])"
   ]
  },
  {
   "cell_type": "code",
   "execution_count": 12,
   "id": "ec508349",
   "metadata": {},
   "outputs": [],
   "source": [
    "train_feature_set=tfidf_vectorizer.transform(X_train)\n",
    "test_feature_set=tfidf_vectorizer.transform(X_test)"
   ]
  },
  {
   "cell_type": "code",
   "execution_count": 13,
   "id": "ed456416",
   "metadata": {},
   "outputs": [
    {
     "data": {
      "text/plain": [
       "<52281x59830 sparse matrix of type '<class 'numpy.float64'>'\n",
       "\twith 906519 stored elements in Compressed Sparse Row format>"
      ]
     },
     "execution_count": 13,
     "metadata": {},
     "output_type": "execute_result"
    }
   ],
   "source": [
    "train_feature_set"
   ]
  },
  {
   "cell_type": "code",
   "execution_count": 14,
   "id": "5c8bfb30",
   "metadata": {},
   "outputs": [],
   "source": [
    "from sklearn.naive_bayes import MultinomialNB"
   ]
  },
  {
   "cell_type": "code",
   "execution_count": 15,
   "id": "6451ae50",
   "metadata": {},
   "outputs": [],
   "source": [
    "mnb = MultinomialNB()\n",
    "model = mnb.fit(train_feature_set,y_train)"
   ]
  },
  {
   "cell_type": "code",
   "execution_count": 16,
   "id": "7c09d804",
   "metadata": {},
   "outputs": [
    {
     "data": {
      "text/plain": [
       "0.8396567123606851"
      ]
     },
     "execution_count": 16,
     "metadata": {},
     "output_type": "execute_result"
    }
   ],
   "source": [
    "from sklearn.metrics import accuracy_score\n",
    "\n",
    "y_pred = mnb.predict(test_feature_set)\n",
    "score = accuracy_score(y_test,y_pred)\n",
    "score"
   ]
  },
  {
   "cell_type": "code",
   "execution_count": null,
   "id": "1fe285f6",
   "metadata": {},
   "outputs": [],
   "source": []
  }
 ],
 "metadata": {
  "kernelspec": {
   "display_name": "Python 3",
   "language": "python",
   "name": "python3"
  },
  "language_info": {
   "codemirror_mode": {
    "name": "ipython",
    "version": 3
   },
   "file_extension": ".py",
   "mimetype": "text/x-python",
   "name": "python",
   "nbconvert_exporter": "python",
   "pygments_lexer": "ipython3",
   "version": "3.8.8"
  }
 },
 "nbformat": 4,
 "nbformat_minor": 5
}
