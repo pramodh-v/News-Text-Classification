{
 "cells": [
  {
   "cell_type": "code",
   "execution_count": 1,
   "id": "c859b27a",
   "metadata": {},
   "outputs": [],
   "source": [
    "import pandas as pd\n",
    "import numpy as np"
   ]
  },
  {
   "cell_type": "code",
   "execution_count": 2,
   "id": "eecf31e9",
   "metadata": {},
   "outputs": [],
   "source": [
    "df = pd.read_csv('Preprocessed_Dataset.csv')"
   ]
  },
  {
   "cell_type": "code",
   "execution_count": 3,
   "id": "dbf63a22",
   "metadata": {},
   "outputs": [
    {
     "data": {
      "text/html": [
       "<div>\n",
       "<style scoped>\n",
       "    .dataframe tbody tr th:only-of-type {\n",
       "        vertical-align: middle;\n",
       "    }\n",
       "\n",
       "    .dataframe tbody tr th {\n",
       "        vertical-align: top;\n",
       "    }\n",
       "\n",
       "    .dataframe thead th {\n",
       "        text-align: right;\n",
       "    }\n",
       "</style>\n",
       "<table border=\"1\" class=\"dataframe\">\n",
       "  <thead>\n",
       "    <tr style=\"text-align: right;\">\n",
       "      <th></th>\n",
       "      <th>Unnamed: 0</th>\n",
       "      <th>category</th>\n",
       "      <th>comb</th>\n",
       "    </tr>\n",
       "  </thead>\n",
       "  <tbody>\n",
       "    <tr>\n",
       "      <th>0</th>\n",
       "      <td>0</td>\n",
       "      <td>ENTERTAINMENT</td>\n",
       "      <td>['smith', 'join', 'diplo', 'nicky', 'jam', '20...</td>\n",
       "    </tr>\n",
       "    <tr>\n",
       "      <th>1</th>\n",
       "      <td>1</td>\n",
       "      <td>ENTERTAINMENT</td>\n",
       "      <td>['hugh', 'grant', 'marry', 'first', 'time', 'a...</td>\n",
       "    </tr>\n",
       "    <tr>\n",
       "      <th>2</th>\n",
       "      <td>2</td>\n",
       "      <td>ENTERTAINMENT</td>\n",
       "      <td>['jim', 'carrey', 'blast', 'castrato', 'adam',...</td>\n",
       "    </tr>\n",
       "    <tr>\n",
       "      <th>3</th>\n",
       "      <td>3</td>\n",
       "      <td>ENTERTAINMENT</td>\n",
       "      <td>['julianna', 'margulies', 'use', 'donald', 'tr...</td>\n",
       "    </tr>\n",
       "    <tr>\n",
       "      <th>4</th>\n",
       "      <td>4</td>\n",
       "      <td>ENTERTAINMENT</td>\n",
       "      <td>['morgan', 'freeman', 'devastate', 'sexual', '...</td>\n",
       "    </tr>\n",
       "  </tbody>\n",
       "</table>\n",
       "</div>"
      ],
      "text/plain": [
       "   Unnamed: 0       category  \\\n",
       "0           0  ENTERTAINMENT   \n",
       "1           1  ENTERTAINMENT   \n",
       "2           2  ENTERTAINMENT   \n",
       "3           3  ENTERTAINMENT   \n",
       "4           4  ENTERTAINMENT   \n",
       "\n",
       "                                                comb  \n",
       "0  ['smith', 'join', 'diplo', 'nicky', 'jam', '20...  \n",
       "1  ['hugh', 'grant', 'marry', 'first', 'time', 'a...  \n",
       "2  ['jim', 'carrey', 'blast', 'castrato', 'adam',...  \n",
       "3  ['julianna', 'margulies', 'use', 'donald', 'tr...  \n",
       "4  ['morgan', 'freeman', 'devastate', 'sexual', '...  "
      ]
     },
     "execution_count": 3,
     "metadata": {},
     "output_type": "execute_result"
    }
   ],
   "source": [
    "df.head()"
   ]
  },
  {
   "cell_type": "code",
   "execution_count": 4,
   "id": "58730d6b",
   "metadata": {},
   "outputs": [],
   "source": [
    "df.drop(columns=['Unnamed: 0'],inplace=True)"
   ]
  },
  {
   "cell_type": "code",
   "execution_count": 5,
   "id": "628b2a33",
   "metadata": {},
   "outputs": [
    {
     "data": {
      "text/html": [
       "<div>\n",
       "<style scoped>\n",
       "    .dataframe tbody tr th:only-of-type {\n",
       "        vertical-align: middle;\n",
       "    }\n",
       "\n",
       "    .dataframe tbody tr th {\n",
       "        vertical-align: top;\n",
       "    }\n",
       "\n",
       "    .dataframe thead th {\n",
       "        text-align: right;\n",
       "    }\n",
       "</style>\n",
       "<table border=\"1\" class=\"dataframe\">\n",
       "  <thead>\n",
       "    <tr style=\"text-align: right;\">\n",
       "      <th></th>\n",
       "      <th>category</th>\n",
       "      <th>comb</th>\n",
       "    </tr>\n",
       "  </thead>\n",
       "  <tbody>\n",
       "    <tr>\n",
       "      <th>0</th>\n",
       "      <td>ENTERTAINMENT</td>\n",
       "      <td>['smith', 'join', 'diplo', 'nicky', 'jam', '20...</td>\n",
       "    </tr>\n",
       "    <tr>\n",
       "      <th>1</th>\n",
       "      <td>ENTERTAINMENT</td>\n",
       "      <td>['hugh', 'grant', 'marry', 'first', 'time', 'a...</td>\n",
       "    </tr>\n",
       "    <tr>\n",
       "      <th>2</th>\n",
       "      <td>ENTERTAINMENT</td>\n",
       "      <td>['jim', 'carrey', 'blast', 'castrato', 'adam',...</td>\n",
       "    </tr>\n",
       "    <tr>\n",
       "      <th>3</th>\n",
       "      <td>ENTERTAINMENT</td>\n",
       "      <td>['julianna', 'margulies', 'use', 'donald', 'tr...</td>\n",
       "    </tr>\n",
       "    <tr>\n",
       "      <th>4</th>\n",
       "      <td>ENTERTAINMENT</td>\n",
       "      <td>['morgan', 'freeman', 'devastate', 'sexual', '...</td>\n",
       "    </tr>\n",
       "    <tr>\n",
       "      <th>...</th>\n",
       "      <td>...</td>\n",
       "      <td>...</td>\n",
       "    </tr>\n",
       "    <tr>\n",
       "      <th>78027</th>\n",
       "      <td>TRAVEL</td>\n",
       "      <td>['tea', 'time', 'beneath', 'western', 'ghats',...</td>\n",
       "    </tr>\n",
       "    <tr>\n",
       "      <th>78028</th>\n",
       "      <td>WELLNESS</td>\n",
       "      <td>['begin', 'surprise', 'advice', 'centenarian',...</td>\n",
       "    </tr>\n",
       "    <tr>\n",
       "      <th>78029</th>\n",
       "      <td>STYLE &amp; BEAUTY</td>\n",
       "      <td>['cheryl', 'tiegs', 'sauna', 'look', 'back', '...</td>\n",
       "    </tr>\n",
       "    <tr>\n",
       "      <th>78030</th>\n",
       "      <td>ENTERTAINMENT</td>\n",
       "      <td>['sundance', 'icet', 'shade', 'american', 'rac...</td>\n",
       "    </tr>\n",
       "    <tr>\n",
       "      <th>78031</th>\n",
       "      <td>ENTERTAINMENT</td>\n",
       "      <td>['girl', 'dragon', 'tattoo', 'india', 'release...</td>\n",
       "    </tr>\n",
       "  </tbody>\n",
       "</table>\n",
       "<p>78032 rows × 2 columns</p>\n",
       "</div>"
      ],
      "text/plain": [
       "             category                                               comb\n",
       "0       ENTERTAINMENT  ['smith', 'join', 'diplo', 'nicky', 'jam', '20...\n",
       "1       ENTERTAINMENT  ['hugh', 'grant', 'marry', 'first', 'time', 'a...\n",
       "2       ENTERTAINMENT  ['jim', 'carrey', 'blast', 'castrato', 'adam',...\n",
       "3       ENTERTAINMENT  ['julianna', 'margulies', 'use', 'donald', 'tr...\n",
       "4       ENTERTAINMENT  ['morgan', 'freeman', 'devastate', 'sexual', '...\n",
       "...               ...                                                ...\n",
       "78027          TRAVEL  ['tea', 'time', 'beneath', 'western', 'ghats',...\n",
       "78028        WELLNESS  ['begin', 'surprise', 'advice', 'centenarian',...\n",
       "78029  STYLE & BEAUTY  ['cheryl', 'tiegs', 'sauna', 'look', 'back', '...\n",
       "78030   ENTERTAINMENT  ['sundance', 'icet', 'shade', 'american', 'rac...\n",
       "78031   ENTERTAINMENT  ['girl', 'dragon', 'tattoo', 'india', 'release...\n",
       "\n",
       "[78032 rows x 2 columns]"
      ]
     },
     "execution_count": 5,
     "metadata": {},
     "output_type": "execute_result"
    }
   ],
   "source": [
    "df"
   ]
  },
  {
   "cell_type": "code",
   "execution_count": 6,
   "id": "d100def6",
   "metadata": {},
   "outputs": [],
   "source": [
    "from sklearn.feature_extraction.text import TfidfVectorizer\n",
    "from sklearn.model_selection import train_test_split\n",
    "\n",
    "X = df['comb']\n",
    "y = df['category']"
   ]
  },
  {
   "cell_type": "code",
   "execution_count": 7,
   "id": "5f7b5992",
   "metadata": {},
   "outputs": [
    {
     "data": {
      "text/plain": [
       "0        ['smith', 'join', 'diplo', 'nicky', 'jam', '20...\n",
       "1        ['hugh', 'grant', 'marry', 'first', 'time', 'a...\n",
       "2        ['jim', 'carrey', 'blast', 'castrato', 'adam',...\n",
       "3        ['julianna', 'margulies', 'use', 'donald', 'tr...\n",
       "4        ['morgan', 'freeman', 'devastate', 'sexual', '...\n",
       "                               ...                        \n",
       "78027    ['tea', 'time', 'beneath', 'western', 'ghats',...\n",
       "78028    ['begin', 'surprise', 'advice', 'centenarian',...\n",
       "78029    ['cheryl', 'tiegs', 'sauna', 'look', 'back', '...\n",
       "78030    ['sundance', 'icet', 'shade', 'american', 'rac...\n",
       "78031    ['girl', 'dragon', 'tattoo', 'india', 'release...\n",
       "Name: comb, Length: 78032, dtype: object"
      ]
     },
     "execution_count": 7,
     "metadata": {},
     "output_type": "execute_result"
    }
   ],
   "source": [
    "X"
   ]
  },
  {
   "cell_type": "code",
   "execution_count": 8,
   "id": "18b20d40",
   "metadata": {},
   "outputs": [
    {
     "data": {
      "text/plain": [
       "0         ENTERTAINMENT\n",
       "1         ENTERTAINMENT\n",
       "2         ENTERTAINMENT\n",
       "3         ENTERTAINMENT\n",
       "4         ENTERTAINMENT\n",
       "              ...      \n",
       "78027            TRAVEL\n",
       "78028          WELLNESS\n",
       "78029    STYLE & BEAUTY\n",
       "78030     ENTERTAINMENT\n",
       "78031     ENTERTAINMENT\n",
       "Name: category, Length: 78032, dtype: object"
      ]
     },
     "execution_count": 8,
     "metadata": {},
     "output_type": "execute_result"
    }
   ],
   "source": [
    "y"
   ]
  },
  {
   "cell_type": "code",
   "execution_count": 9,
   "id": "f1897784",
   "metadata": {},
   "outputs": [],
   "source": [
    "X_train,X_test,y_train,y_test = train_test_split(X,y,test_size=0.33,random_state=42)"
   ]
  },
  {
   "cell_type": "code",
   "execution_count": 10,
   "id": "63544042",
   "metadata": {},
   "outputs": [
    {
     "data": {
      "text/plain": [
       "69034          WELLNESS\n",
       "62848            TRAVEL\n",
       "55120            TRAVEL\n",
       "33829          POLITICS\n",
       "72485            TRAVEL\n",
       "              ...      \n",
       "66231          WELLNESS\n",
       "13642          POLITICS\n",
       "24199          POLITICS\n",
       "21423     ENTERTAINMENT\n",
       "48087    STYLE & BEAUTY\n",
       "Name: category, Length: 25751, dtype: object"
      ]
     },
     "execution_count": 10,
     "metadata": {},
     "output_type": "execute_result"
    }
   ],
   "source": [
    "y_test"
   ]
  },
  {
   "cell_type": "code",
   "execution_count": 11,
   "id": "2a0c8eed",
   "metadata": {},
   "outputs": [
    {
     "data": {
      "text/plain": [
       "<78032x59830 sparse matrix of type '<class 'numpy.float64'>'\n",
       "\twith 1352842 stored elements in Compressed Sparse Row format>"
      ]
     },
     "execution_count": 11,
     "metadata": {},
     "output_type": "execute_result"
    }
   ],
   "source": [
    "tfidf_vectorizer = TfidfVectorizer()\n",
    "\n",
    "tfidf_vectorizer.fit_transform(df['comb'])"
   ]
  },
  {
   "cell_type": "code",
   "execution_count": 12,
   "id": "cadfcbc4",
   "metadata": {},
   "outputs": [],
   "source": [
    "train_feature_set=tfidf_vectorizer.transform(X_train)\n",
    "test_feature_set=tfidf_vectorizer.transform(X_test)"
   ]
  },
  {
   "cell_type": "code",
   "execution_count": 13,
   "id": "82a725fd",
   "metadata": {},
   "outputs": [
    {
     "data": {
      "text/plain": [
       "<52281x59830 sparse matrix of type '<class 'numpy.float64'>'\n",
       "\twith 906519 stored elements in Compressed Sparse Row format>"
      ]
     },
     "execution_count": 13,
     "metadata": {},
     "output_type": "execute_result"
    }
   ],
   "source": [
    "train_feature_set"
   ]
  },
  {
   "cell_type": "code",
   "execution_count": 14,
   "id": "d84b4dc1",
   "metadata": {},
   "outputs": [
    {
     "name": "stdout",
     "output_type": "stream",
     "text": [
      "[LibLinear]"
     ]
    }
   ],
   "source": [
    "from sklearn.linear_model import LogisticRegression\n",
    "\n",
    "log_reg = LogisticRegression(verbose=1, solver='liblinear',random_state=0, C=5, penalty='l2',max_iter=1000)\n",
    "model=log_reg.fit(train_feature_set,y_train)"
   ]
  },
  {
   "cell_type": "code",
   "execution_count": 15,
   "id": "9843d858",
   "metadata": {},
   "outputs": [
    {
     "data": {
      "text/plain": [
       "0.9050910644246826"
      ]
     },
     "execution_count": 15,
     "metadata": {},
     "output_type": "execute_result"
    }
   ],
   "source": [
    "from sklearn.metrics import accuracy_score\n",
    "\n",
    "y_pred = log_reg.predict(test_feature_set)\n",
    "score = accuracy_score(y_test,y_pred)\n",
    "score"
   ]
  },
  {
   "cell_type": "code",
   "execution_count": 21,
   "id": "dca2c59c",
   "metadata": {},
   "outputs": [
    {
     "data": {
      "text/plain": [
       "array(['WELLNESS', 'TRAVEL', 'TRAVEL', ..., 'POLITICS', 'ENTERTAINMENT',\n",
       "       'STYLE & BEAUTY'], dtype=object)"
      ]
     },
     "execution_count": 21,
     "metadata": {},
     "output_type": "execute_result"
    }
   ],
   "source": [
    "y_pred"
   ]
  },
  {
   "cell_type": "code",
   "execution_count": 19,
   "id": "46b15046",
   "metadata": {},
   "outputs": [
    {
     "data": {
      "text/plain": [
       "69034          WELLNESS\n",
       "62848            TRAVEL\n",
       "55120            TRAVEL\n",
       "33829          POLITICS\n",
       "72485            TRAVEL\n",
       "              ...      \n",
       "66231          WELLNESS\n",
       "13642          POLITICS\n",
       "24199          POLITICS\n",
       "21423     ENTERTAINMENT\n",
       "48087    STYLE & BEAUTY\n",
       "Name: category, Length: 25751, dtype: object"
      ]
     },
     "execution_count": 19,
     "metadata": {},
     "output_type": "execute_result"
    }
   ],
   "source": [
    "y_test"
   ]
  },
  {
   "cell_type": "code",
   "execution_count": 22,
   "id": "d50231f7",
   "metadata": {},
   "outputs": [
    {
     "data": {
      "text/plain": [
       "array(['WELLNESS', 'TRAVEL', 'TRAVEL', ..., 'POLITICS', 'ENTERTAINMENT',\n",
       "       'STYLE & BEAUTY'], dtype=object)"
      ]
     },
     "execution_count": 22,
     "metadata": {},
     "output_type": "execute_result"
    }
   ],
   "source": [
    "np.array(y_pred)"
   ]
  },
  {
   "cell_type": "code",
   "execution_count": 27,
   "id": "6c458ef2",
   "metadata": {},
   "outputs": [],
   "source": [
    "result = pd.DataFrame(np.transpose(np.vstack([y_pred,y_test])),columns=['Prediction','Actual'])"
   ]
  },
  {
   "cell_type": "code",
   "execution_count": 28,
   "id": "e01f898b",
   "metadata": {},
   "outputs": [
    {
     "data": {
      "text/html": [
       "<div>\n",
       "<style scoped>\n",
       "    .dataframe tbody tr th:only-of-type {\n",
       "        vertical-align: middle;\n",
       "    }\n",
       "\n",
       "    .dataframe tbody tr th {\n",
       "        vertical-align: top;\n",
       "    }\n",
       "\n",
       "    .dataframe thead th {\n",
       "        text-align: right;\n",
       "    }\n",
       "</style>\n",
       "<table border=\"1\" class=\"dataframe\">\n",
       "  <thead>\n",
       "    <tr style=\"text-align: right;\">\n",
       "      <th></th>\n",
       "      <th>Prediction</th>\n",
       "      <th>Actual</th>\n",
       "    </tr>\n",
       "  </thead>\n",
       "  <tbody>\n",
       "    <tr>\n",
       "      <th>0</th>\n",
       "      <td>WELLNESS</td>\n",
       "      <td>WELLNESS</td>\n",
       "    </tr>\n",
       "    <tr>\n",
       "      <th>1</th>\n",
       "      <td>TRAVEL</td>\n",
       "      <td>TRAVEL</td>\n",
       "    </tr>\n",
       "    <tr>\n",
       "      <th>2</th>\n",
       "      <td>TRAVEL</td>\n",
       "      <td>TRAVEL</td>\n",
       "    </tr>\n",
       "    <tr>\n",
       "      <th>3</th>\n",
       "      <td>POLITICS</td>\n",
       "      <td>POLITICS</td>\n",
       "    </tr>\n",
       "    <tr>\n",
       "      <th>4</th>\n",
       "      <td>TRAVEL</td>\n",
       "      <td>TRAVEL</td>\n",
       "    </tr>\n",
       "    <tr>\n",
       "      <th>...</th>\n",
       "      <td>...</td>\n",
       "      <td>...</td>\n",
       "    </tr>\n",
       "    <tr>\n",
       "      <th>25746</th>\n",
       "      <td>WELLNESS</td>\n",
       "      <td>WELLNESS</td>\n",
       "    </tr>\n",
       "    <tr>\n",
       "      <th>25747</th>\n",
       "      <td>POLITICS</td>\n",
       "      <td>POLITICS</td>\n",
       "    </tr>\n",
       "    <tr>\n",
       "      <th>25748</th>\n",
       "      <td>POLITICS</td>\n",
       "      <td>POLITICS</td>\n",
       "    </tr>\n",
       "    <tr>\n",
       "      <th>25749</th>\n",
       "      <td>ENTERTAINMENT</td>\n",
       "      <td>ENTERTAINMENT</td>\n",
       "    </tr>\n",
       "    <tr>\n",
       "      <th>25750</th>\n",
       "      <td>STYLE &amp; BEAUTY</td>\n",
       "      <td>STYLE &amp; BEAUTY</td>\n",
       "    </tr>\n",
       "  </tbody>\n",
       "</table>\n",
       "<p>25751 rows × 2 columns</p>\n",
       "</div>"
      ],
      "text/plain": [
       "           Prediction          Actual\n",
       "0            WELLNESS        WELLNESS\n",
       "1              TRAVEL          TRAVEL\n",
       "2              TRAVEL          TRAVEL\n",
       "3            POLITICS        POLITICS\n",
       "4              TRAVEL          TRAVEL\n",
       "...               ...             ...\n",
       "25746        WELLNESS        WELLNESS\n",
       "25747        POLITICS        POLITICS\n",
       "25748        POLITICS        POLITICS\n",
       "25749   ENTERTAINMENT   ENTERTAINMENT\n",
       "25750  STYLE & BEAUTY  STYLE & BEAUTY\n",
       "\n",
       "[25751 rows x 2 columns]"
      ]
     },
     "execution_count": 28,
     "metadata": {},
     "output_type": "execute_result"
    }
   ],
   "source": [
    "result"
   ]
  },
  {
   "cell_type": "code",
   "execution_count": 31,
   "id": "45b8f24e",
   "metadata": {},
   "outputs": [],
   "source": [
    "main = pd.read_csv('Dataset.csv')"
   ]
  },
  {
   "cell_type": "code",
   "execution_count": 32,
   "id": "56af135a",
   "metadata": {},
   "outputs": [
    {
     "data": {
      "text/html": [
       "<div>\n",
       "<style scoped>\n",
       "    .dataframe tbody tr th:only-of-type {\n",
       "        vertical-align: middle;\n",
       "    }\n",
       "\n",
       "    .dataframe tbody tr th {\n",
       "        vertical-align: top;\n",
       "    }\n",
       "\n",
       "    .dataframe thead th {\n",
       "        text-align: right;\n",
       "    }\n",
       "</style>\n",
       "<table border=\"1\" class=\"dataframe\">\n",
       "  <thead>\n",
       "    <tr style=\"text-align: right;\">\n",
       "      <th></th>\n",
       "      <th>Unnamed: 0</th>\n",
       "      <th>headline</th>\n",
       "      <th>short_description</th>\n",
       "      <th>category</th>\n",
       "    </tr>\n",
       "  </thead>\n",
       "  <tbody>\n",
       "    <tr>\n",
       "      <th>0</th>\n",
       "      <td>1</td>\n",
       "      <td>Will Smith Joins Diplo And Nicky Jam For The 2...</td>\n",
       "      <td>Of course it has a song.</td>\n",
       "      <td>ENTERTAINMENT</td>\n",
       "    </tr>\n",
       "    <tr>\n",
       "      <th>1</th>\n",
       "      <td>2</td>\n",
       "      <td>Hugh Grant Marries For The First Time At Age 57</td>\n",
       "      <td>The actor and his longtime girlfriend Anna Ebe...</td>\n",
       "      <td>ENTERTAINMENT</td>\n",
       "    </tr>\n",
       "    <tr>\n",
       "      <th>2</th>\n",
       "      <td>3</td>\n",
       "      <td>Jim Carrey Blasts 'Castrato' Adam Schiff And D...</td>\n",
       "      <td>The actor gives Dems an ass-kicking for not fi...</td>\n",
       "      <td>ENTERTAINMENT</td>\n",
       "    </tr>\n",
       "    <tr>\n",
       "      <th>3</th>\n",
       "      <td>4</td>\n",
       "      <td>Julianna Margulies Uses Donald Trump Poop Bags...</td>\n",
       "      <td>The \"Dietland\" actress said using the bags is ...</td>\n",
       "      <td>ENTERTAINMENT</td>\n",
       "    </tr>\n",
       "    <tr>\n",
       "      <th>4</th>\n",
       "      <td>5</td>\n",
       "      <td>Morgan Freeman 'Devastated' That Sexual Harass...</td>\n",
       "      <td>\"It is not right to equate horrific incidents ...</td>\n",
       "      <td>ENTERTAINMENT</td>\n",
       "    </tr>\n",
       "  </tbody>\n",
       "</table>\n",
       "</div>"
      ],
      "text/plain": [
       "   Unnamed: 0                                           headline  \\\n",
       "0           1  Will Smith Joins Diplo And Nicky Jam For The 2...   \n",
       "1           2    Hugh Grant Marries For The First Time At Age 57   \n",
       "2           3  Jim Carrey Blasts 'Castrato' Adam Schiff And D...   \n",
       "3           4  Julianna Margulies Uses Donald Trump Poop Bags...   \n",
       "4           5  Morgan Freeman 'Devastated' That Sexual Harass...   \n",
       "\n",
       "                                   short_description       category  \n",
       "0                           Of course it has a song.  ENTERTAINMENT  \n",
       "1  The actor and his longtime girlfriend Anna Ebe...  ENTERTAINMENT  \n",
       "2  The actor gives Dems an ass-kicking for not fi...  ENTERTAINMENT  \n",
       "3  The \"Dietland\" actress said using the bags is ...  ENTERTAINMENT  \n",
       "4  \"It is not right to equate horrific incidents ...  ENTERTAINMENT  "
      ]
     },
     "execution_count": 32,
     "metadata": {},
     "output_type": "execute_result"
    }
   ],
   "source": [
    "main.head()"
   ]
  },
  {
   "cell_type": "code",
   "execution_count": 33,
   "id": "8a4148a0",
   "metadata": {},
   "outputs": [],
   "source": [
    "result['Headline'] = main['headline']"
   ]
  },
  {
   "cell_type": "code",
   "execution_count": 42,
   "id": "c2c395bb",
   "metadata": {},
   "outputs": [
    {
     "data": {
      "text/html": [
       "<div>\n",
       "<style scoped>\n",
       "    .dataframe tbody tr th:only-of-type {\n",
       "        vertical-align: middle;\n",
       "    }\n",
       "\n",
       "    .dataframe tbody tr th {\n",
       "        vertical-align: top;\n",
       "    }\n",
       "\n",
       "    .dataframe thead th {\n",
       "        text-align: right;\n",
       "    }\n",
       "</style>\n",
       "<table border=\"1\" class=\"dataframe\">\n",
       "  <thead>\n",
       "    <tr style=\"text-align: right;\">\n",
       "      <th></th>\n",
       "      <th>Prediction</th>\n",
       "      <th>Actual</th>\n",
       "      <th>Headline</th>\n",
       "    </tr>\n",
       "  </thead>\n",
       "  <tbody>\n",
       "    <tr>\n",
       "      <th>0</th>\n",
       "      <td>WELLNESS</td>\n",
       "      <td>WELLNESS</td>\n",
       "      <td>Will Smith Joins Diplo And Nicky Jam For The 2...</td>\n",
       "    </tr>\n",
       "    <tr>\n",
       "      <th>1</th>\n",
       "      <td>TRAVEL</td>\n",
       "      <td>TRAVEL</td>\n",
       "      <td>Hugh Grant Marries For The First Time At Age 57</td>\n",
       "    </tr>\n",
       "    <tr>\n",
       "      <th>2</th>\n",
       "      <td>TRAVEL</td>\n",
       "      <td>TRAVEL</td>\n",
       "      <td>Jim Carrey Blasts 'Castrato' Adam Schiff And D...</td>\n",
       "    </tr>\n",
       "    <tr>\n",
       "      <th>3</th>\n",
       "      <td>POLITICS</td>\n",
       "      <td>POLITICS</td>\n",
       "      <td>Julianna Margulies Uses Donald Trump Poop Bags...</td>\n",
       "    </tr>\n",
       "    <tr>\n",
       "      <th>4</th>\n",
       "      <td>TRAVEL</td>\n",
       "      <td>TRAVEL</td>\n",
       "      <td>Morgan Freeman 'Devastated' That Sexual Harass...</td>\n",
       "    </tr>\n",
       "    <tr>\n",
       "      <th>...</th>\n",
       "      <td>...</td>\n",
       "      <td>...</td>\n",
       "      <td>...</td>\n",
       "    </tr>\n",
       "    <tr>\n",
       "      <th>25746</th>\n",
       "      <td>WELLNESS</td>\n",
       "      <td>WELLNESS</td>\n",
       "      <td>Brexit Crisis Tops Off Rough Stretch In Obama'...</td>\n",
       "    </tr>\n",
       "    <tr>\n",
       "      <th>25747</th>\n",
       "      <td>POLITICS</td>\n",
       "      <td>POLITICS</td>\n",
       "      <td>Donald Trump Appears To Shift On Muslim Ban</td>\n",
       "    </tr>\n",
       "    <tr>\n",
       "      <th>25748</th>\n",
       "      <td>POLITICS</td>\n",
       "      <td>POLITICS</td>\n",
       "      <td>George Will Jumps From Sinking Ship That Is Th...</td>\n",
       "    </tr>\n",
       "    <tr>\n",
       "      <th>25749</th>\n",
       "      <td>ENTERTAINMENT</td>\n",
       "      <td>ENTERTAINMENT</td>\n",
       "      <td>Kylie Jenner Giving Tyga 'Another Shot' At Gro...</td>\n",
       "    </tr>\n",
       "    <tr>\n",
       "      <th>25750</th>\n",
       "      <td>STYLE &amp; BEAUTY</td>\n",
       "      <td>STYLE &amp; BEAUTY</td>\n",
       "      <td>Watch Rory Gilmore Geek Out With Michelle Obam...</td>\n",
       "    </tr>\n",
       "  </tbody>\n",
       "</table>\n",
       "<p>25751 rows × 3 columns</p>\n",
       "</div>"
      ],
      "text/plain": [
       "           Prediction          Actual  \\\n",
       "0            WELLNESS        WELLNESS   \n",
       "1              TRAVEL          TRAVEL   \n",
       "2              TRAVEL          TRAVEL   \n",
       "3            POLITICS        POLITICS   \n",
       "4              TRAVEL          TRAVEL   \n",
       "...               ...             ...   \n",
       "25746        WELLNESS        WELLNESS   \n",
       "25747        POLITICS        POLITICS   \n",
       "25748        POLITICS        POLITICS   \n",
       "25749   ENTERTAINMENT   ENTERTAINMENT   \n",
       "25750  STYLE & BEAUTY  STYLE & BEAUTY   \n",
       "\n",
       "                                                Headline  \n",
       "0      Will Smith Joins Diplo And Nicky Jam For The 2...  \n",
       "1        Hugh Grant Marries For The First Time At Age 57  \n",
       "2      Jim Carrey Blasts 'Castrato' Adam Schiff And D...  \n",
       "3      Julianna Margulies Uses Donald Trump Poop Bags...  \n",
       "4      Morgan Freeman 'Devastated' That Sexual Harass...  \n",
       "...                                                  ...  \n",
       "25746  Brexit Crisis Tops Off Rough Stretch In Obama'...  \n",
       "25747        Donald Trump Appears To Shift On Muslim Ban  \n",
       "25748  George Will Jumps From Sinking Ship That Is Th...  \n",
       "25749  Kylie Jenner Giving Tyga 'Another Shot' At Gro...  \n",
       "25750  Watch Rory Gilmore Geek Out With Michelle Obam...  \n",
       "\n",
       "[25751 rows x 3 columns]"
      ]
     },
     "execution_count": 42,
     "metadata": {},
     "output_type": "execute_result"
    }
   ],
   "source": [
    "result"
   ]
  },
  {
   "cell_type": "code",
   "execution_count": 274,
   "id": "daa2ae58",
   "metadata": {},
   "outputs": [
    {
     "data": {
      "text/html": [
       "<div>\n",
       "<style scoped>\n",
       "    .dataframe tbody tr th:only-of-type {\n",
       "        vertical-align: middle;\n",
       "    }\n",
       "\n",
       "    .dataframe tbody tr th {\n",
       "        vertical-align: top;\n",
       "    }\n",
       "\n",
       "    .dataframe thead th {\n",
       "        text-align: right;\n",
       "    }\n",
       "</style>\n",
       "<table border=\"1\" class=\"dataframe\">\n",
       "  <thead>\n",
       "    <tr style=\"text-align: right;\">\n",
       "      <th></th>\n",
       "      <th>Prediction</th>\n",
       "      <th>Actual</th>\n",
       "      <th>Headline</th>\n",
       "    </tr>\n",
       "  </thead>\n",
       "  <tbody>\n",
       "    <tr>\n",
       "      <th>20</th>\n",
       "      <td>WELLNESS</td>\n",
       "      <td>ENTERTAINMENT</td>\n",
       "      <td>Kanye West Spent $85,000 On Photo Of Whitney H...</td>\n",
       "    </tr>\n",
       "    <tr>\n",
       "      <th>22</th>\n",
       "      <td>ENTERTAINMENT</td>\n",
       "      <td>POLITICS</td>\n",
       "      <td>People Are Rattled By How Much This Nigerian M...</td>\n",
       "    </tr>\n",
       "    <tr>\n",
       "      <th>66</th>\n",
       "      <td>WELLNESS</td>\n",
       "      <td>STYLE &amp; BEAUTY</td>\n",
       "      <td>Fans Back Jessica Walter After She Addressed V...</td>\n",
       "    </tr>\n",
       "    <tr>\n",
       "      <th>69</th>\n",
       "      <td>POLITICS</td>\n",
       "      <td>ENTERTAINMENT</td>\n",
       "      <td>Scott Pruitt Twice Introduced Anti-Abortion Bi...</td>\n",
       "    </tr>\n",
       "    <tr>\n",
       "      <th>85</th>\n",
       "      <td>TRAVEL</td>\n",
       "      <td>STYLE &amp; BEAUTY</td>\n",
       "      <td>Betsy DeVos Stirs Uproar By Saying Schools Can...</td>\n",
       "    </tr>\n",
       "    <tr>\n",
       "      <th>...</th>\n",
       "      <td>...</td>\n",
       "      <td>...</td>\n",
       "      <td>...</td>\n",
       "    </tr>\n",
       "    <tr>\n",
       "      <th>25702</th>\n",
       "      <td>STYLE &amp; BEAUTY</td>\n",
       "      <td>ENTERTAINMENT</td>\n",
       "      <td>HUFFPOLLSTER: Hillary Clinton Pulls Further Ah...</td>\n",
       "    </tr>\n",
       "    <tr>\n",
       "      <th>25719</th>\n",
       "      <td>ENTERTAINMENT</td>\n",
       "      <td>WELLNESS</td>\n",
       "      <td>Sony's Michael Jackson Deal To Be Decided By A...</td>\n",
       "    </tr>\n",
       "    <tr>\n",
       "      <th>25720</th>\n",
       "      <td>POLITICS</td>\n",
       "      <td>ENTERTAINMENT</td>\n",
       "      <td>Wendy Davis Just Won: Supreme Court Vindicates...</td>\n",
       "    </tr>\n",
       "    <tr>\n",
       "      <th>25723</th>\n",
       "      <td>WELLNESS</td>\n",
       "      <td>POLITICS</td>\n",
       "      <td>It's Been A Bad Month For Donald Trump, And Th...</td>\n",
       "    </tr>\n",
       "    <tr>\n",
       "      <th>25727</th>\n",
       "      <td>ENTERTAINMENT</td>\n",
       "      <td>STYLE &amp; BEAUTY</td>\n",
       "      <td>Adele Fan Gets More Than She Bargained For Whe...</td>\n",
       "    </tr>\n",
       "  </tbody>\n",
       "</table>\n",
       "<p>2444 rows × 3 columns</p>\n",
       "</div>"
      ],
      "text/plain": [
       "           Prediction          Actual  \\\n",
       "20           WELLNESS   ENTERTAINMENT   \n",
       "22      ENTERTAINMENT        POLITICS   \n",
       "66           WELLNESS  STYLE & BEAUTY   \n",
       "69           POLITICS   ENTERTAINMENT   \n",
       "85             TRAVEL  STYLE & BEAUTY   \n",
       "...               ...             ...   \n",
       "25702  STYLE & BEAUTY   ENTERTAINMENT   \n",
       "25719   ENTERTAINMENT        WELLNESS   \n",
       "25720        POLITICS   ENTERTAINMENT   \n",
       "25723        WELLNESS        POLITICS   \n",
       "25727   ENTERTAINMENT  STYLE & BEAUTY   \n",
       "\n",
       "                                                Headline  \n",
       "20     Kanye West Spent $85,000 On Photo Of Whitney H...  \n",
       "22     People Are Rattled By How Much This Nigerian M...  \n",
       "66     Fans Back Jessica Walter After She Addressed V...  \n",
       "69     Scott Pruitt Twice Introduced Anti-Abortion Bi...  \n",
       "85     Betsy DeVos Stirs Uproar By Saying Schools Can...  \n",
       "...                                                  ...  \n",
       "25702  HUFFPOLLSTER: Hillary Clinton Pulls Further Ah...  \n",
       "25719  Sony's Michael Jackson Deal To Be Decided By A...  \n",
       "25720  Wendy Davis Just Won: Supreme Court Vindicates...  \n",
       "25723  It's Been A Bad Month For Donald Trump, And Th...  \n",
       "25727  Adele Fan Gets More Than She Bargained For Whe...  \n",
       "\n",
       "[2444 rows x 3 columns]"
      ]
     },
     "execution_count": 274,
     "metadata": {},
     "output_type": "execute_result"
    }
   ],
   "source": [
    "result[result['Prediction']!=result['Actual']]"
   ]
  },
  {
   "cell_type": "code",
   "execution_count": 164,
   "id": "5f340033",
   "metadata": {},
   "outputs": [],
   "source": [
    "import string \n",
    "from nltk.tokenize import word_tokenize \n",
    "import nltk\n",
    "from nltk.stem import WordNetLemmatizer\n",
    "\n",
    "wnl = WordNetLemmatizer()\n",
    "stopwords = nltk.corpus.stopwords.words('english')\n",
    "\n",
    "def remove_punctuation(text):\n",
    "    punctuationfree=\"\".join([i for i in str(text) if i not in string.punctuation and i not in \"'\"])\n",
    "    return punctuationfree"
   ]
  },
  {
   "cell_type": "code",
   "execution_count": 165,
   "id": "7207121d",
   "metadata": {},
   "outputs": [],
   "source": [
    "def remove_stopwords(text):\n",
    "    output= [i for i in text if i not in stopwords]\n",
    "    return output"
   ]
  },
  {
   "cell_type": "code",
   "execution_count": 166,
   "id": "f593a479",
   "metadata": {},
   "outputs": [],
   "source": [
    "def lemmatizer(text):\n",
    "    l = [wnl.lemmatize(word,pos=\"v\") for word in text]\n",
    "    return l"
   ]
  },
  {
   "cell_type": "code",
   "execution_count": 203,
   "id": "9eace36e",
   "metadata": {},
   "outputs": [],
   "source": [
    "def preprocess_text(text):\n",
    "    text = remove_punctuation(str(text))\n",
    "#     print(text)\n",
    "    text = str(text).lower()\n",
    "#     print(text)\n",
    "    text = word_tokenize(str(text))\n",
    "#     print(text)\n",
    "    text = remove_stopwords(text)\n",
    "#     print(text)\n",
    "    text = lemmatizer(text)\n",
    "#     print(text)\n",
    "    return text"
   ]
  },
  {
   "cell_type": "code",
   "execution_count": 275,
   "id": "d86a23df",
   "metadata": {},
   "outputs": [],
   "source": [
    "from statistics import mode\n",
    "def get_prediction(text):\n",
    "    freq = {}\n",
    "    text = preprocess_text(text)\n",
    "    #print(\"Preprocessed Text: \",text)\n",
    "    transformed_text = tfidf_vectorizer.transform(text)\n",
    "    preds = model.predict(transformed_text)\n",
    "    \n",
    "    for pred in preds:\n",
    "        if(pred in freq):\n",
    "            freq[pred]+=1\n",
    "        else:\n",
    "            freq[pred]=1\n",
    "    #lassified domains: \",freq)\n",
    "    return mode(freq)"
   ]
  },
  {
   "cell_type": "code",
   "execution_count": 276,
   "id": "8e7a3c23",
   "metadata": {
    "scrolled": false
   },
   "outputs": [
    {
     "data": {
      "text/plain": [
       "'WELLNESS'"
      ]
     },
     "execution_count": 276,
     "metadata": {},
     "output_type": "execute_result"
    }
   ],
   "source": [
    "get_prediction(\"Yoga is the new fitness mantra for the young\")"
   ]
  },
  {
   "cell_type": "code",
   "execution_count": 277,
   "id": "b55bbe81",
   "metadata": {},
   "outputs": [
    {
     "data": {
      "text/plain": [
       "'STYLE & BEAUTY'"
      ]
     },
     "execution_count": 277,
     "metadata": {},
     "output_type": "execute_result"
    }
   ],
   "source": [
    "get_prediction(\"Kate Middleton and Prince William sparkle in new photo with New Year's message\")"
   ]
  },
  {
   "cell_type": "code",
   "execution_count": 278,
   "id": "2e5e02db",
   "metadata": {},
   "outputs": [
    {
     "data": {
      "text/plain": [
       "'POLITICS'"
      ]
     },
     "execution_count": 278,
     "metadata": {},
     "output_type": "execute_result"
    }
   ],
   "source": [
    "get_prediction(\"Assembly polls 2022: Uttarakhand AAP leader joins Congress\")"
   ]
  },
  {
   "cell_type": "code",
   "execution_count": 279,
   "id": "e2bb63ba",
   "metadata": {},
   "outputs": [
    {
     "data": {
      "text/plain": [
       "'ENTERTAINMENT'"
      ]
     },
     "execution_count": 279,
     "metadata": {},
     "output_type": "execute_result"
    }
   ],
   "source": [
    "get_prediction(\"Kajal Aggarwal’s husband Gautam Kitchlu confirms her pregnancy: 'Here’s looking at you 2022'\")"
   ]
  },
  {
   "cell_type": "code",
   "execution_count": 280,
   "id": "89ed7ac5",
   "metadata": {},
   "outputs": [
    {
     "data": {
      "text/plain": [
       "'ENTERTAINMENT'"
      ]
     },
     "execution_count": 280,
     "metadata": {},
     "output_type": "execute_result"
    }
   ],
   "source": [
    "get_prediction(\"Orient Express returns to Italy after nearly 50 years\") #Actual domain is travel"
   ]
  },
  {
   "cell_type": "code",
   "execution_count": null,
   "id": "90082a7e",
   "metadata": {},
   "outputs": [],
   "source": []
  }
 ],
 "metadata": {
  "kernelspec": {
   "display_name": "Python 3",
   "language": "python",
   "name": "python3"
  },
  "language_info": {
   "codemirror_mode": {
    "name": "ipython",
    "version": 3
   },
   "file_extension": ".py",
   "mimetype": "text/x-python",
   "name": "python",
   "nbconvert_exporter": "python",
   "pygments_lexer": "ipython3",
   "version": "3.8.8"
  }
 },
 "nbformat": 4,
 "nbformat_minor": 5
}
